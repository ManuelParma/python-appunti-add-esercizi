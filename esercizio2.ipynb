{
  "nbformat": 4,
  "nbformat_minor": 0,
  "metadata": {
    "colab": {
      "name": "esercizio2.ipynb",
      "provenance": []
    },
    "kernelspec": {
      "name": "python3",
      "display_name": "Python 3"
    },
    "language_info": {
      "name": "python"
    }
  },
  "cells": [
    {
      "cell_type": "markdown",
      "metadata": {
        "id": "6F3G_Vo5IUVk"
      },
      "source": [
        "1. Scrivere un programma che crei una lista contenente i nomi dei capoluoghi delle regioni italiane e che visualizzi la lista. Chiamare la lista capoluoghiRegione"
      ]
    },
    {
      "cell_type": "code",
      "metadata": {
        "colab": {
          "base_uri": "https://localhost:8080/"
        },
        "id": "jFhGJ3EkIeIh",
        "outputId": "c0d5d838-4be1-44b0-ef8a-1dcab65df32e"
      },
      "source": [
        "capoluoghiRegione = ['L\\'Aquila', 'Potenza', 'Catanzaro', 'Napoli', 'Bologna', 'Trieste', 'Roma', 'Genova', 'Milano', 'Ancona', 'Campobasso', 'Torino', 'Bari', 'Cagliari', 'Palermo', 'Firenze', 'Trento', 'Perugia', 'Aosta', 'Venezia']\n",
        "print(capoluoghiRegione)"
      ],
      "execution_count": 43,
      "outputs": [
        {
          "output_type": "stream",
          "name": "stdout",
          "text": [
            "[\"L'Aquila\", 'Potenza', 'Catanzaro', 'Napoli', 'Bologna', 'Trieste', 'Roma', 'Genova', 'Milano', 'Ancona', 'Campobasso', 'Torino', 'Bari', 'Cagliari', 'Palermo', 'Firenze', 'Trento', 'Perugia', 'Aosta', 'Venezia']\n"
          ]
        }
      ]
    },
    {
      "cell_type": "markdown",
      "metadata": {
        "id": "lsGBzvWJJfnt"
      },
      "source": [
        "2. Scrivere un programma che visualizzi i primi 6 capoluoghi di regione presenti in capoluoghiRegione"
      ]
    },
    {
      "cell_type": "code",
      "metadata": {
        "colab": {
          "base_uri": "https://localhost:8080/"
        },
        "id": "unol5wtiJkiS",
        "outputId": "7397b1a4-8506-4647-f7a8-a1853d3a5ce8"
      },
      "source": [
        "print(capoluoghiRegione[0:6])"
      ],
      "execution_count": 4,
      "outputs": [
        {
          "output_type": "stream",
          "name": "stdout",
          "text": [
            "[\"L'Aquila\", 'Potenza', 'Catanzaro', 'Napoli', 'Bologna', 'Trieste']\n"
          ]
        }
      ]
    },
    {
      "cell_type": "markdown",
      "metadata": {
        "id": "kHv5A-dzJr4-"
      },
      "source": [
        "3. Scrivere un programma che visualizzi gli ultimi 6 capoluoghi di regione presenti in capoluoghiRegione"
      ]
    },
    {
      "cell_type": "code",
      "metadata": {
        "colab": {
          "base_uri": "https://localhost:8080/"
        },
        "id": "33FzJ3obJu1e",
        "outputId": "5ff80a04-7a92-4ea9-8812-4f79d3bbd18e"
      },
      "source": [
        "print(capoluoghiRegione[len(capoluoghiRegione)-6:])"
      ],
      "execution_count": 5,
      "outputs": [
        {
          "output_type": "stream",
          "name": "stdout",
          "text": [
            "['Palermo', 'Firenze', 'Trento', 'Perugia', 'Aosta', 'Venezia']\n"
          ]
        }
      ]
    },
    {
      "cell_type": "markdown",
      "metadata": {
        "id": "ZA5SZvasJ4KU"
      },
      "source": [
        "4. Scrivere un programma che visualizzi i 6 capoluoghi di regione presenti nella parte centrale di capoluoghiRegione"
      ]
    },
    {
      "cell_type": "code",
      "metadata": {
        "colab": {
          "base_uri": "https://localhost:8080/"
        },
        "id": "sNZCdbkDJ62q",
        "outputId": "c909d4ca-1e39-4f2c-ce38-20f455954286"
      },
      "source": [
        "print(capoluoghiRegione[len(capoluoghiRegione)//2-3:len(capoluoghiRegione)//2+3])"
      ],
      "execution_count": 7,
      "outputs": [
        {
          "output_type": "stream",
          "name": "stdout",
          "text": [
            "['Genova', 'Milano', 'Ancona', 'Campobasso', 'Torino', 'Bari']\n"
          ]
        }
      ]
    },
    {
      "cell_type": "markdown",
      "metadata": {
        "id": "4IXilI75Kny7"
      },
      "source": [
        "5. Scrivere un programma che visualizzi i capoluoghi di regione presenti in capoluoghiRegione nelle posizioni pari."
      ]
    },
    {
      "cell_type": "code",
      "metadata": {
        "colab": {
          "base_uri": "https://localhost:8080/"
        },
        "id": "DtJ_eTZVKsGb",
        "outputId": "8b100b7a-7e19-429a-f199-88313de0ffa2"
      },
      "source": [
        "print([cap for cap in capoluoghiRegione if capoluoghiRegione.index(cap) % 2 == 0])"
      ],
      "execution_count": 9,
      "outputs": [
        {
          "output_type": "stream",
          "name": "stdout",
          "text": [
            "[\"L'Aquila\", 'Catanzaro', 'Bologna', 'Roma', 'Milano', 'Campobasso', 'Bari', 'Palermo', 'Trento', 'Aosta']\n"
          ]
        }
      ]
    },
    {
      "cell_type": "markdown",
      "metadata": {
        "id": "1zhNEnn6LEeR"
      },
      "source": [
        "6. Scrivere un programma che visualizzi i capoluoghi di regione presenti in capoluoghiRegione nelle posizioni dispari."
      ]
    },
    {
      "cell_type": "code",
      "metadata": {
        "colab": {
          "base_uri": "https://localhost:8080/"
        },
        "id": "Z3gHQb8_LGvT",
        "outputId": "63975840-2669-4377-99df-f6f9d3b07eef"
      },
      "source": [
        "print([cap for cap in capoluoghiRegione if capoluoghiRegione.index(cap) % 2 == 1])"
      ],
      "execution_count": 10,
      "outputs": [
        {
          "output_type": "stream",
          "name": "stdout",
          "text": [
            "['Potenza', 'Napoli', 'Trieste', 'Genova', 'Ancona', 'Torino', 'Cagliari', 'Firenze', 'Perugia', 'Venezia']\n"
          ]
        }
      ]
    },
    {
      "cell_type": "markdown",
      "metadata": {
        "id": "iPF8f9azLPUN"
      },
      "source": [
        "7. Scrivere un programma che visualizzi il primo capoluogo di regione in ordine alfabetico"
      ]
    },
    {
      "cell_type": "code",
      "metadata": {
        "colab": {
          "base_uri": "https://localhost:8080/"
        },
        "id": "TAqRDiYQLR_7",
        "outputId": "dd3f5cb3-354b-474a-9f7e-28a58ff32fc4"
      },
      "source": [
        "print(sorted(capoluoghiRegione)[0])"
      ],
      "execution_count": 11,
      "outputs": [
        {
          "output_type": "stream",
          "name": "stdout",
          "text": [
            "Ancona\n"
          ]
        }
      ]
    },
    {
      "cell_type": "markdown",
      "metadata": {
        "id": "Hr8ftyBCLak9"
      },
      "source": [
        "8. Scrivere un programma che permetta ad un utente di inserire il nome di una città è risponda True se quella città è un capoluogo di regione, False altrimenti."
      ]
    },
    {
      "cell_type": "code",
      "metadata": {
        "colab": {
          "base_uri": "https://localhost:8080/"
        },
        "id": "eWmsYc4zLert",
        "outputId": "fd64a7dc-99d8-41fc-9c55-6b620d8a27a6"
      },
      "source": [
        "city = input('Inserire il some di una città:\\n')\n",
        "print(city in capoluoghiRegione)"
      ],
      "execution_count": 13,
      "outputs": [
        {
          "output_type": "stream",
          "name": "stdout",
          "text": [
            "Inserire il some di una città:\n",
            "Milano\n",
            "True\n"
          ]
        }
      ]
    },
    {
      "cell_type": "markdown",
      "metadata": {
        "id": "HT-HCaBXL2J6"
      },
      "source": [
        "9. Scrivere un programma che visualizzi i capoluoghi in ordine alfabetico"
      ]
    },
    {
      "cell_type": "code",
      "metadata": {
        "colab": {
          "base_uri": "https://localhost:8080/"
        },
        "id": "Rf4nBzy4L4oR",
        "outputId": "b35a7d49-d5c3-449a-8d12-18884a09faef"
      },
      "source": [
        "print(sorted(capoluoghiRegione))"
      ],
      "execution_count": 14,
      "outputs": [
        {
          "output_type": "stream",
          "name": "stdout",
          "text": [
            "['Ancona', 'Aosta', 'Bari', 'Bologna', 'Cagliari', 'Campobasso', 'Catanzaro', 'Firenze', 'Genova', \"L'Aquila\", 'Milano', 'Napoli', 'Palermo', 'Perugia', 'Potenza', 'Roma', 'Torino', 'Trento', 'Trieste', 'Venezia']\n"
          ]
        }
      ]
    },
    {
      "cell_type": "markdown",
      "metadata": {
        "id": "pSSMMi4_L8nZ"
      },
      "source": [
        "10. Scrivere un programma che visualizzi i capoluoghi in ordine alfabetico inverso (dalla Z alla A)"
      ]
    },
    {
      "cell_type": "code",
      "metadata": {
        "colab": {
          "base_uri": "https://localhost:8080/"
        },
        "id": "f39SZdbML_e_",
        "outputId": "e2de87e6-eeeb-48ae-b595-a1606c8a28f3"
      },
      "source": [
        "print(sorted(capoluoghiRegione, reverse=True))"
      ],
      "execution_count": 17,
      "outputs": [
        {
          "output_type": "stream",
          "name": "stdout",
          "text": [
            "['Venezia', 'Trieste', 'Trento', 'Torino', 'Roma', 'Potenza', 'Perugia', 'Palermo', 'Napoli', 'Milano', \"L'Aquila\", 'Genova', 'Firenze', 'Catanzaro', 'Campobasso', 'Cagliari', 'Bologna', 'Bari', 'Aosta', 'Ancona']\n"
          ]
        }
      ]
    },
    {
      "cell_type": "markdown",
      "metadata": {
        "id": "Hmsw71Y1MLdz"
      },
      "source": [
        "11. Scrivere un programma che visualizzi i capoluoghi in ordine sulla base della lunghezza del nome (da quello più corto a quello più lungo)"
      ]
    },
    {
      "cell_type": "code",
      "metadata": {
        "colab": {
          "base_uri": "https://localhost:8080/"
        },
        "id": "dLcUxZ5cMO3h",
        "outputId": "d2034c67-68f4-40a8-bd33-a2f37cb6d685"
      },
      "source": [
        "print(sorted(capoluoghiRegione, key=len))"
      ],
      "execution_count": 18,
      "outputs": [
        {
          "output_type": "stream",
          "name": "stdout",
          "text": [
            "['Roma', 'Bari', 'Aosta', 'Napoli', 'Genova', 'Milano', 'Ancona', 'Torino', 'Trento', 'Potenza', 'Bologna', 'Trieste', 'Palermo', 'Firenze', 'Perugia', 'Venezia', \"L'Aquila\", 'Cagliari', 'Catanzaro', 'Campobasso']\n"
          ]
        }
      ]
    },
    {
      "cell_type": "markdown",
      "metadata": {
        "id": "Wwf7PqmHMXvz"
      },
      "source": [
        "12. Scrivere un programma che copi la lista capoluoghiRegione nella lista\n",
        "capoluoghiRegione2 e che elimini dalla prima lista il primo e l’ultimo elemento. Al termine, visualizzare le due liste una sotto l’altra per verificare che effettivamente siano stati eliminati gli elementi della lista originale."
      ]
    },
    {
      "cell_type": "code",
      "metadata": {
        "colab": {
          "base_uri": "https://localhost:8080/"
        },
        "id": "QwJMeVCeMcJW",
        "outputId": "bf773a83-709b-490c-d797-aa9861a00cd3"
      },
      "source": [
        "capoluoghiRegione2 = tuple(capoluoghiRegione)\n",
        "capoluoghiRegione.pop(0)\n",
        "capoluoghiRegione.pop()\n",
        "print(str(list(capoluoghiRegione2)) + '\\n' + str(capoluoghiRegione))"
      ],
      "execution_count": 42,
      "outputs": [
        {
          "output_type": "stream",
          "name": "stdout",
          "text": [
            "['Trieste', 'Roma', 'Genova', 'Milano', 'Ancona', 'Campobasso', 'Torino', 'Bari', 'Cagliari', 'Palermo']\n",
            "['Roma', 'Genova', 'Milano', 'Ancona', 'Campobasso', 'Torino', 'Bari', 'Cagliari']\n"
          ]
        }
      ]
    },
    {
      "cell_type": "markdown",
      "metadata": {
        "id": "IjIyZ1rlOGbv"
      },
      "source": [
        "13. Scrivere un programma che, con una sola istruzione, carichi una lista con i primi 100 numeri interi. Chiamare la lista numeriInteri. Al termine, visualizzare la lista."
      ]
    },
    {
      "cell_type": "code",
      "metadata": {
        "colab": {
          "base_uri": "https://localhost:8080/"
        },
        "id": "XxpCWMPpOIM5",
        "outputId": "649139c1-6acf-4f7d-abb0-069013fcd7fa"
      },
      "source": [
        "numeriInteri = [i for i in range(100)]\n",
        "print(numeriInteri)"
      ],
      "execution_count": 44,
      "outputs": [
        {
          "output_type": "stream",
          "name": "stdout",
          "text": [
            "[0, 1, 2, 3, 4, 5, 6, 7, 8, 9, 10, 11, 12, 13, 14, 15, 16, 17, 18, 19, 20, 21, 22, 23, 24, 25, 26, 27, 28, 29, 30, 31, 32, 33, 34, 35, 36, 37, 38, 39, 40, 41, 42, 43, 44, 45, 46, 47, 48, 49, 50, 51, 52, 53, 54, 55, 56, 57, 58, 59, 60, 61, 62, 63, 64, 65, 66, 67, 68, 69, 70, 71, 72, 73, 74, 75, 76, 77, 78, 79, 80, 81, 82, 83, 84, 85, 86, 87, 88, 89, 90, 91, 92, 93, 94, 95, 96, 97, 98, 99]\n"
          ]
        }
      ]
    },
    {
      "cell_type": "markdown",
      "metadata": {
        "id": "qMQgzS9EOTZ1"
      },
      "source": [
        "14. Scrivere un programma che permetta all’utente di inserire in una lista 10 numeri interi, elimini i duplicati e visualizzi la lista senza duplicati. Chiamare la lista numeriInteri."
      ]
    },
    {
      "cell_type": "code",
      "metadata": {
        "colab": {
          "base_uri": "https://localhost:8080/"
        },
        "id": "W6_c9gwpOWH3",
        "outputId": "0fefdd82-f7dd-404d-b61f-0066eca0c2f0"
      },
      "source": [
        "numeriInteri = []\n",
        "for i in range(10):\n",
        "  num = input('Inserisci il '+str(i+1)+'° numero intero:\\n')\n",
        "  numeriInteri.append(num)\n",
        "\n",
        "print(list(set(numeriInteri)))"
      ],
      "execution_count": 51,
      "outputs": [
        {
          "output_type": "stream",
          "name": "stdout",
          "text": [
            "Inserisci il 1° numero intero:\n",
            "1\n",
            "Inserisci il 2° numero intero:\n",
            "2\n",
            "Inserisci il 3° numero intero:\n",
            "3\n",
            "Inserisci il 4° numero intero:\n",
            "4\n",
            "Inserisci il 5° numero intero:\n",
            "4\n",
            "Inserisci il 6° numero intero:\n",
            "4\n",
            "Inserisci il 7° numero intero:\n",
            "5\n",
            "Inserisci il 8° numero intero:\n",
            "6\n",
            "Inserisci il 9° numero intero:\n",
            "6\n",
            "Inserisci il 10° numero intero:\n",
            "7\n",
            "['5', '6', '2', '1', '3', '7', '4']\n"
          ]
        }
      ]
    }
  ]
}