{
  "nbformat": 4,
  "nbformat_minor": 0,
  "metadata": {
    "colab": {
      "name": "esercizio3.ipynb",
      "provenance": [],
      "collapsed_sections": []
    },
    "kernelspec": {
      "name": "python3",
      "display_name": "Python 3"
    },
    "language_info": {
      "name": "python"
    }
  },
  "cells": [
    {
      "cell_type": "markdown",
      "metadata": {
        "id": "UF-Fx31pXfMf"
      },
      "source": [
        "1. Scrivere un programma che crei un dizionario contenente i nomi delle regioni e i nomi dei loro capoluoghi. Il nome della regione deve essere il campo chiave. Chiamare il dizionario capoluoghiRegione"
      ]
    },
    {
      "cell_type": "code",
      "metadata": {
        "id": "SmprX2uovvrZ"
      },
      "source": [
        "capoluoghiRegione = {\n",
        "  \"Valle d'Aosta\": \"Aosta\",\n",
        "  \"Piemonte\": \"Torino\",\n",
        "  \"Liguria\": \"Genova\",\n",
        "  \"Lombardia\": \"Milano\",\n",
        "  \"Trentino Alto Adige\": \"Trento\",\n",
        "  \"Veneto\": \"Venezia\",\n",
        "  \"Friuli Venezia Giulia\": \"Trieste\",\n",
        "  \"Emilia Romagna\": \"Bologna\",\n",
        "  \"Toscana\": \"Firenze\",\n",
        "  \"Marche\": \"Ancona\",\n",
        "  \"Umbria\": \"Perugia\",\n",
        "  \"Lazio\": \"Roma\",\n",
        "  \"Abruzzo\": \"L'aquila\",\n",
        "  \"Molise\": \"Campobasso\",\n",
        "  \"Campania\": \"Napoli\",\n",
        "  \"Puglia\": \"Bari\",\n",
        "  \"Basilicata\": \"Potenza\",\n",
        "  \"Calabria\": \"Catanzaro\",\n",
        "  \"Sicilia\": \"Palermo\",\n",
        "  \"Sardegna\": \"Cagliari\"\n",
        "}"
      ],
      "execution_count": null,
      "outputs": []
    },
    {
      "cell_type": "markdown",
      "metadata": {
        "id": "NQuPkXrByHqF"
      },
      "source": [
        "2. Scrivere un programma che visualizzi tutti i nomi delle regioni presenti in capoluoghiRegione"
      ]
    },
    {
      "cell_type": "code",
      "metadata": {
        "colab": {
          "base_uri": "https://localhost:8080/"
        },
        "id": "AqXC-Jveya5n",
        "outputId": "d062d925-ad76-49d4-d5d3-9b3dbdf84bb0"
      },
      "source": [
        "print(\", \".join([reg for reg in capoluoghiRegione.keys()]))"
      ],
      "execution_count": null,
      "outputs": [
        {
          "output_type": "stream",
          "name": "stdout",
          "text": [
            "Valle d'Aosta, Piemonte, Liguria, Lombardia, Trentino Alto Adige, Veneto, Friuli Venezia Giulia, Emilia Romagna, Toscana, Marche, Umbria, Lazio, Abruzzo, Molise, Campania, Puglia, Basilicata, Calabria, Sicilia, Sardegna\n"
          ]
        }
      ]
    },
    {
      "cell_type": "markdown",
      "metadata": {
        "id": "75ft4oqqy2c4"
      },
      "source": [
        "3. Scrivere un programma che visualizzi tutti i nomi dei capoluoghi di regione presenti in capoluoghiRegione\n",
        "\n"
      ]
    },
    {
      "cell_type": "code",
      "metadata": {
        "colab": {
          "base_uri": "https://localhost:8080/"
        },
        "id": "uCGJtnUny_pa",
        "outputId": "4a968b16-4283-425e-8892-b697ceada244"
      },
      "source": [
        "print(\", \".join([cap for cap in capoluoghiRegione.values()]))"
      ],
      "execution_count": null,
      "outputs": [
        {
          "output_type": "stream",
          "name": "stdout",
          "text": [
            "Aosta, Torino, Genova, Milano, Trento, Venezia, Trieste, Bologna, Firenze, Ancona, Perugia, Roma, L'aquila, Campobasso, Napoli, Bari, Potenza, Catanzaro, Palermo, Cagliari\n"
          ]
        }
      ]
    },
    {
      "cell_type": "markdown",
      "metadata": {
        "id": "TAbQddvNzTAw"
      },
      "source": [
        "4. Scrivere un programma che acquisisca dall’utente il nome di una regione e fornisca il nome del suo capoluogo."
      ]
    },
    {
      "cell_type": "code",
      "metadata": {
        "colab": {
          "base_uri": "https://localhost:8080/"
        },
        "id": "THns79mRza8K",
        "outputId": "73daf3cf-4b58-4bec-a201-c3767e9ce8f6"
      },
      "source": [
        "l_reg = input(\"Inserire il nome di una regione:\\n\")\n",
        "print(capoluoghiRegione[l_reg] if l_reg in capoluoghiRegione else \"Not Found!\")"
      ],
      "execution_count": null,
      "outputs": [
        {
          "output_type": "stream",
          "name": "stdout",
          "text": [
            "Inserire il nome di una regione:\n",
            "A\n",
            "Not Found!\n"
          ]
        }
      ]
    },
    {
      "cell_type": "markdown",
      "metadata": {
        "id": "KwakcLwK0SzJ"
      },
      "source": [
        "5. Scrivere un programma che acquisisca dall’utente il nome di un capoluogo e fornisca il nome della regione a cui appartiene."
      ]
    },
    {
      "cell_type": "code",
      "metadata": {
        "colab": {
          "base_uri": "https://localhost:8080/"
        },
        "id": "jkfIx3_40a5z",
        "outputId": "fd2f0f10-afc3-4ca0-80a3-d1516699d8c9"
      },
      "source": [
        "cap = input(\"Inserire il capoluogo:\\n\")\n",
        "items = tuple(capoluoghiRegione.items())\n",
        "l1_reg = \"\"\n",
        "i = 0\n",
        "while not l1_reg and i < len(items)-1:\n",
        "  if items[i][1] == cap:\n",
        "    l1_reg = items[i][0]\n",
        "  i += 1\n",
        "print(l1_reg if l1_reg else \"Not Found!\")"
      ],
      "execution_count": null,
      "outputs": [
        {
          "output_type": "stream",
          "name": "stdout",
          "text": [
            "Inserire il capoluogo:\n",
            "Roma\n",
            "Lazio\n"
          ]
        }
      ]
    },
    {
      "cell_type": "markdown",
      "metadata": {
        "id": "mGCgK51Q2ue-"
      },
      "source": [
        "6. Scrivere un programma che visualizzi tutte le regioni con i rispettivi capoluoghi"
      ]
    },
    {
      "cell_type": "code",
      "metadata": {
        "colab": {
          "base_uri": "https://localhost:8080/"
        },
        "id": "GEp5Zq5J288b",
        "outputId": "42d8b1c4-0159-4467-8c11-e65d6afed056"
      },
      "source": [
        "print(\"\\n\".join((\"Regione: \" + reg + \"\\t\\t\\tCapoluogo: \" + cap) for (reg, cap) in capoluoghiRegione.items()))"
      ],
      "execution_count": null,
      "outputs": [
        {
          "output_type": "stream",
          "name": "stdout",
          "text": [
            "Regione: Valle d'Aosta\t\t\tCapoluogo: Aosta\n",
            "Regione: Piemonte\t\t\tCapoluogo: Torino\n",
            "Regione: Liguria\t\t\tCapoluogo: Genova\n",
            "Regione: Lombardia\t\t\tCapoluogo: Milano\n",
            "Regione: Trentino Alto Adige\t\t\tCapoluogo: Trento\n",
            "Regione: Veneto\t\t\tCapoluogo: Venezia\n",
            "Regione: Friuli Venezia Giulia\t\t\tCapoluogo: Trieste\n",
            "Regione: Emilia Romagna\t\t\tCapoluogo: Bologna\n",
            "Regione: Toscana\t\t\tCapoluogo: Firenze\n",
            "Regione: Marche\t\t\tCapoluogo: Ancona\n",
            "Regione: Umbria\t\t\tCapoluogo: Perugia\n",
            "Regione: Lazio\t\t\tCapoluogo: Roma\n",
            "Regione: Abruzzo\t\t\tCapoluogo: L'aquila\n",
            "Regione: Molise\t\t\tCapoluogo: Campobasso\n",
            "Regione: Campania\t\t\tCapoluogo: Napoli\n",
            "Regione: Puglia\t\t\tCapoluogo: Bari\n",
            "Regione: Basilicata\t\t\tCapoluogo: Potenza\n",
            "Regione: Calabria\t\t\tCapoluogo: Catanzaro\n",
            "Regione: Sicilia\t\t\tCapoluogo: Palermo\n",
            "Regione: Sardegna\t\t\tCapoluogo: Cagliari\n"
          ]
        }
      ]
    },
    {
      "cell_type": "markdown",
      "metadata": {
        "id": "X2CXGcRk36qN"
      },
      "source": [
        "7. Scrivere un programma che visualizzi tutte le regioni con i rispettivi capoluoghi. Ordinare le regioni in ordine alfabetico"
      ]
    },
    {
      "cell_type": "code",
      "metadata": {
        "colab": {
          "base_uri": "https://localhost:8080/"
        },
        "id": "lVd0CblT4YQ9",
        "outputId": "3f23bec2-2a91-4222-a0a7-47a85353c57b"
      },
      "source": [
        "print(\"\\n\".join(sorted((\"Regione: \" + reg + \"\\t\\t\\tCapoluogo: \" + cap) for (reg, cap) in capoluoghiRegione.items())))"
      ],
      "execution_count": null,
      "outputs": [
        {
          "output_type": "stream",
          "name": "stdout",
          "text": [
            "Regione: Abruzzo\t\t\tCapoluogo: L'aquila\n",
            "Regione: Basilicata\t\t\tCapoluogo: Potenza\n",
            "Regione: Calabria\t\t\tCapoluogo: Catanzaro\n",
            "Regione: Campania\t\t\tCapoluogo: Napoli\n",
            "Regione: Emilia Romagna\t\t\tCapoluogo: Bologna\n",
            "Regione: Friuli Venezia Giulia\t\t\tCapoluogo: Trieste\n",
            "Regione: Lazio\t\t\tCapoluogo: Roma\n",
            "Regione: Liguria\t\t\tCapoluogo: Genova\n",
            "Regione: Lombardia\t\t\tCapoluogo: Milano\n",
            "Regione: Marche\t\t\tCapoluogo: Ancona\n",
            "Regione: Molise\t\t\tCapoluogo: Campobasso\n",
            "Regione: Piemonte\t\t\tCapoluogo: Torino\n",
            "Regione: Puglia\t\t\tCapoluogo: Bari\n",
            "Regione: Sardegna\t\t\tCapoluogo: Cagliari\n",
            "Regione: Sicilia\t\t\tCapoluogo: Palermo\n",
            "Regione: Toscana\t\t\tCapoluogo: Firenze\n",
            "Regione: Trentino Alto Adige\t\t\tCapoluogo: Trento\n",
            "Regione: Umbria\t\t\tCapoluogo: Perugia\n",
            "Regione: Valle d'Aosta\t\t\tCapoluogo: Aosta\n",
            "Regione: Veneto\t\t\tCapoluogo: Venezia\n"
          ]
        }
      ]
    },
    {
      "cell_type": "markdown",
      "metadata": {
        "id": "b_veV1r847-R"
      },
      "source": [
        "8. Scrivere un programma che visualizzi tutte le regioni con i rispettivi capoluoghi. Ordinare i capoluoghi in ordine alfabetico"
      ]
    },
    {
      "cell_type": "code",
      "metadata": {
        "colab": {
          "base_uri": "https://localhost:8080/"
        },
        "id": "O0V9wU4z4_ST",
        "outputId": "d9999e27-cbdf-4710-9bc7-8b1c6b7947eb"
      },
      "source": [
        "l_caps = sorted(list(capoluoghiRegione.values()))\n",
        "l_regs = list(capoluoghiRegione.keys())\n",
        "l_newRegs = [\"\"] * len(capoluoghiRegione.items())\n",
        "for reg in l_regs:\n",
        "  index = l_caps.index(capoluoghiRegione[reg])\n",
        "  l_newRegs[index] = reg\n",
        "\n",
        "for cap in l_caps:\n",
        "  print('Regione: {} \\t\\t\\tCapoluogo: {}'.format(l_newRegs[l_caps.index(cap)], cap))"
      ],
      "execution_count": null,
      "outputs": [
        {
          "output_type": "stream",
          "name": "stdout",
          "text": [
            "Regione: Marche \t\t\tCapoluogo: Ancona\n",
            "Regione: Valle d'Aosta \t\t\tCapoluogo: Aosta\n",
            "Regione: Puglia \t\t\tCapoluogo: Bari\n",
            "Regione: Emilia Romagna \t\t\tCapoluogo: Bologna\n",
            "Regione: Sardegna \t\t\tCapoluogo: Cagliari\n",
            "Regione: Molise \t\t\tCapoluogo: Campobasso\n",
            "Regione: Calabria \t\t\tCapoluogo: Catanzaro\n",
            "Regione: Toscana \t\t\tCapoluogo: Firenze\n",
            "Regione: Liguria \t\t\tCapoluogo: Genova\n",
            "Regione: Abruzzo \t\t\tCapoluogo: L'aquila\n",
            "Regione: Lombardia \t\t\tCapoluogo: Milano\n",
            "Regione: Campania \t\t\tCapoluogo: Napoli\n",
            "Regione: Sicilia \t\t\tCapoluogo: Palermo\n",
            "Regione: Umbria \t\t\tCapoluogo: Perugia\n",
            "Regione: Basilicata \t\t\tCapoluogo: Potenza\n",
            "Regione: Lazio \t\t\tCapoluogo: Roma\n",
            "Regione: Piemonte \t\t\tCapoluogo: Torino\n",
            "Regione: Trentino Alto Adige \t\t\tCapoluogo: Trento\n",
            "Regione: Friuli Venezia Giulia \t\t\tCapoluogo: Trieste\n",
            "Regione: Veneto \t\t\tCapoluogo: Venezia\n"
          ]
        }
      ]
    },
    {
      "cell_type": "markdown",
      "metadata": {
        "id": "NLu4dziObTFu"
      },
      "source": [
        "9. Scrivere un programma che carichi in una lista i nomi delle regioni e in un’altra lista i nomi dei rispettivi capoluoghi. Scrivere poi l’istruzione che permette di costruire il dizionario a partire dalle due liste."
      ]
    },
    {
      "cell_type": "code",
      "metadata": {
        "colab": {
          "base_uri": "https://localhost:8080/"
        },
        "id": "v8RNK5JAbe8l",
        "outputId": "844d4839-2b0a-4144-e199-b211c3490860"
      },
      "source": [
        "l1_caps = list(capoluoghiRegione.values())\n",
        "l1_regs = list(capoluoghiRegione.keys())\n",
        "l_dict = dict((reg, cap) for (reg, cap) in zip(l1_regs, l1_caps))\n",
        "print(l_dict)"
      ],
      "execution_count": null,
      "outputs": [
        {
          "output_type": "stream",
          "name": "stdout",
          "text": [
            "{\"Valle d'Aosta\": 'Aosta', 'Piemonte': 'Torino', 'Liguria': 'Genova', 'Lombardia': 'Milano', 'Trentino Alto Adige': 'Trento', 'Veneto': 'Venezia', 'Friuli Venezia Giulia': 'Trieste', 'Emilia Romagna': 'Bologna', 'Toscana': 'Firenze', 'Marche': 'Ancona', 'Umbria': 'Perugia', 'Lazio': 'Roma', 'Abruzzo': \"L'aquila\", 'Molise': 'Campobasso', 'Campania': 'Napoli', 'Puglia': 'Bari', 'Basilicata': 'Potenza', 'Calabria': 'Catanzaro', 'Sicilia': 'Palermo', 'Sardegna': 'Cagliari'}\n"
          ]
        }
      ]
    }
  ]
}
