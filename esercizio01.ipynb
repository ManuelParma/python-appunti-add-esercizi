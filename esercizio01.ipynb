{
 "cells": [
  {
   "cell_type": "markdown",
   "metadata": {},
   "source": [
    "a. far inserire all'utente 2 valori interi"
   ]
  },
  {
   "cell_type": "code",
   "execution_count": 87,
   "metadata": {},
   "outputs": [
    {
     "name": "stdout",
     "output_type": "stream",
     "text": [
      "Inserisci il primo numero:\n",
      "170\n",
      "Inserisci il secondo numero:\n",
      "11\n"
     ]
    }
   ],
   "source": [
    "f_num = input('Insert the first number:\\n')\n",
    "s_num = input('Insert the second number:\\n')"
   ]
  },
  {
   "cell_type": "markdown",
   "metadata": {},
   "source": [
    "b. effettuare le 4 operazione aritmetiche tra i due numeri"
   ]
  },
  {
   "cell_type": "code",
   "execution_count": 88,
   "metadata": {},
   "outputs": [
    {
     "name": "stdout",
     "output_type": "stream",
     "text": [
      "Somma: 181\n",
      "Sottrazione: 159\n",
      "Moltiplicazione: 1870\n",
      "Divisione: 15.454545454545455\n"
     ]
    }
   ],
   "source": [
    "f_num = int(f_num)\n",
    "s_num = int(s_num)\n",
    "print('Sum: {}\\nSubtraction: {}\\nMultiplication: {}\\nDivision: {}'.format(f_num + s_num, f_num - s_num, f_num * s_num, f_num / s_num))"
   ]
  },
  {
   "cell_type": "markdown",
   "metadata": {},
   "source": [
    "c. effettuare l'elevamento a potenza del primo numero per il secondo"
   ]
  },
  {
   "cell_type": "code",
   "execution_count": 89,
   "metadata": {},
   "outputs": [
    {
     "name": "stdout",
     "output_type": "stream",
     "text": [
      "Potenza: 3427189630763300000000000\n"
     ]
    }
   ],
   "source": [
    "print('Power:', str(f_num**s_num))"
   ]
  },
  {
   "cell_type": "markdown",
   "metadata": {},
   "source": [
    "d. effettuare il calcolo del resto della divisione tra il primo ed il secondo numero"
   ]
  },
  {
   "cell_type": "code",
   "execution_count": 90,
   "metadata": {},
   "outputs": [
    {
     "name": "stdout",
     "output_type": "stream",
     "text": [
      "Resto: 5\n"
     ]
    }
   ],
   "source": [
    "print('Resto:', str(f_num%s_num))"
   ]
  },
  {
   "cell_type": "markdown",
   "metadata": {},
   "source": [
    "f. effettuare la divisione intera tra il primo e il secondo numero"
   ]
  },
  {
   "cell_type": "code",
   "execution_count": 91,
   "metadata": {},
   "outputs": [
    {
     "name": "stdout",
     "output_type": "stream",
     "text": [
      "Divisione intera: 15\n"
     ]
    }
   ],
   "source": [
    "print('Divisione intera:', str(f_num//s_num))"
   ]
  },
  {
   "cell_type": "markdown",
   "metadata": {},
   "source": [
    "g. incrementare di un unità entrambi i numeri"
   ]
  },
  {
   "cell_type": "code",
   "execution_count": 92,
   "metadata": {},
   "outputs": [
    {
     "name": "stdout",
     "output_type": "stream",
     "text": [
      "f_num incremented by 1: 171\n",
      "s_num incremented by 1: 12\n"
     ]
    }
   ],
   "source": [
    "f_num += 1\n",
    "s_num += 1\n",
    "print('f_num incremented by 1:', str(f_num))\n",
    "print('s_num incremented by 1:', str(s_num))"
   ]
  },
  {
   "cell_type": "markdown",
   "metadata": {},
   "source": [
    "h. far inserire all'utente due valori: il primo rappresenta la sua altezza (in metri)\n",
    "e il secondo rappresenta il suo peso (in kg). Visualizzare poi l'IMC (google it...) \n",
    "i. arrotondare l'IMC precedente"
   ]
  },
  {
   "cell_type": "code",
   "execution_count": 96,
   "metadata": {
    "scrolled": true
   },
   "outputs": [
    {
     "name": "stdout",
     "output_type": "stream",
     "text": [
      "Inserisci la tua altezza:\n",
      "1.65\n",
      "Inserisci il tuo peso:\n",
      "65\n",
      "\n",
      "IMC: 23.875114784205696\n"
     ]
    }
   ],
   "source": [
    "height = float(input('Insert your height:\\n'))\n",
    "weight = float(input('Insert your weight:\\n'))\n",
    "imc = weight / height**2\n",
    "print('\\nIMC:', imc)"
   ]
  },
  {
   "cell_type": "markdown",
   "metadata": {},
   "source": [
    "i. arrotondare l'IMC precedente"
   ]
  },
  {
   "cell_type": "code",
   "execution_count": 98,
   "metadata": {},
   "outputs": [
    {
     "name": "stdout",
     "output_type": "stream",
     "text": [
      "Rounded IMC:\n",
      " 24\n"
     ]
    }
   ],
   "source": [
    "print('Rounded IMC:\\n', round(imc))"
   ]
  },
  {
   "cell_type": "markdown",
   "metadata": {},
   "source": [
    "j. visualizzare il proprio nome, cognome, data di nascita e città di nascita separando le informazioni con un trattino"
   ]
  },
  {
   "cell_type": "code",
   "execution_count": 101,
   "metadata": {},
   "outputs": [
    {
     "name": "stdout",
     "output_type": "stream",
     "text": [
      "Manuel - Parma - 00/00/05 - Bollate\n"
     ]
    }
   ],
   "source": [
    "data = ['Manuel', 'Parma', '00/00/05', 'Bollate']\n",
    "s_data = ' - '.join(data)\n",
    "print(s_data)"
   ]
  },
  {
   "cell_type": "markdown",
   "metadata": {},
   "source": [
    "k. visualizzare le stesse informazioni per 10 volte"
   ]
  },
  {
   "cell_type": "code",
   "execution_count": 102,
   "metadata": {},
   "outputs": [
    {
     "name": "stdout",
     "output_type": "stream",
     "text": [
      "Manuel - Parma - 00/00/05 - BollateManuel - Parma - 00/00/05 - BollateManuel - Parma - 00/00/05 - BollateManuel - Parma - 00/00/05 - BollateManuel - Parma - 00/00/05 - BollateManuel - Parma - 00/00/05 - BollateManuel - Parma - 00/00/05 - BollateManuel - Parma - 00/00/05 - BollateManuel - Parma - 00/00/05 - BollateManuel - Parma - 00/00/05 - Bollate\n"
     ]
    }
   ],
   "source": [
    "print(s_data*10)"
   ]
  },
  {
   "cell_type": "markdown",
   "metadata": {},
   "source": [
    "l. assegnare il proprio nome e cognome ad una stringa"
   ]
  },
  {
   "cell_type": "code",
   "execution_count": 106,
   "metadata": {},
   "outputs": [
    {
     "name": "stdout",
     "output_type": "stream",
     "text": [
      "Nome e cognome: MANUEL PARMA\n"
     ]
    }
   ],
   "source": [
    "full_name = '{} {}'.format(data[0], data[1])\n",
    "print('Name and surname:', full_name.upper())"
   ]
  },
  {
   "cell_type": "markdown",
   "metadata": {},
   "source": [
    "m. assegnare il proprio nome e cognome ad una stringa e visualizzarla con le prime lettere maiuscole"
   ]
  },
  {
   "cell_type": "code",
   "execution_count": 107,
   "metadata": {},
   "outputs": [
    {
     "name": "stdout",
     "output_type": "stream",
     "text": [
      "Manuel Parma\n"
     ]
    }
   ],
   "source": [
    "print(full_name.title())"
   ]
  },
  {
   "cell_type": "markdown",
   "metadata": {},
   "source": [
    "n. assegnare il proprio nome e cognome ad una stringa e visualizzarne la lunghezza"
   ]
  },
  {
   "cell_type": "code",
   "execution_count": 108,
   "metadata": {},
   "outputs": [
    {
     "name": "stdout",
     "output_type": "stream",
     "text": [
      "Length with space 12, length without space 11\n"
     ]
    }
   ],
   "source": [
    "print('Length with space {}, length without space {}'.format(len(full_name), len(full_name) -1))"
   ]
  },
  {
   "cell_type": "markdown",
   "metadata": {},
   "source": [
    "o. assegnare il proprio nome e cognome ad una stringa e contate quante vocali contiene"
   ]
  },
  {
   "cell_type": "code",
   "execution_count": 118,
   "metadata": {},
   "outputs": [
    {
     "name": "stdout",
     "output_type": "stream",
     "text": [
      "Count of vocals in full_name:  5\n"
     ]
    }
   ],
   "source": [
    "vocals = ['a', 'e', 'i', 'o', 'u']\n",
    "v_count = 0\n",
    "for v in vocals:\n",
    "    v_count += full_name.count(v)\n",
    "print('Count of vocals in full_name: ', v_count)"
   ]
  },
  {
   "cell_type": "markdown",
   "metadata": {},
   "source": [
    "p. assegnare il proprio nome e cognome ad una stringa e visualizzare i primi 5 caratteri"
   ]
  },
  {
   "cell_type": "code",
   "execution_count": 119,
   "metadata": {},
   "outputs": [
    {
     "name": "stdout",
     "output_type": "stream",
     "text": [
      "First 5 characters of full_name: Manue\n"
     ]
    }
   ],
   "source": [
    "print('First 5 characters of full_name:', full_name[0:5])"
   ]
  },
  {
   "cell_type": "markdown",
   "metadata": {},
   "source": [
    "q. assegnare il proprio nome e cognome ad una stringa e visualizzare gli ultimi 5 caratteri"
   ]
  },
  {
   "cell_type": "code",
   "execution_count": 136,
   "metadata": {},
   "outputs": [
    {
     "name": "stdout",
     "output_type": "stream",
     "text": [
      "Last 5 characters of full_name:  Parma\n"
     ]
    }
   ],
   "source": [
    "print('Last 5 characters of full_name:', full_name[len(full_name)-6:len(full_name)])"
   ]
  },
  {
   "cell_type": "markdown",
   "metadata": {},
   "source": [
    "r. assegnare il proprio nome e cognome ad una stringa e visualizzare i 5 caratteri centrali"
   ]
  },
  {
   "cell_type": "code",
   "execution_count": 137,
   "metadata": {},
   "outputs": [
    {
     "name": "stdout",
     "output_type": "stream",
     "text": [
      "9.5\n"
     ]
    }
   ],
   "source": [
    "f_util = len(full_name)-5/2\n",
    "if f_util % 2 is not 0:\n",
    "    f_util = int(f_util)\n",
    "    s_util = f_util + 1\n",
    "else:\n",
    "    s_util = f_util"
   ]
  }
 ],
 "metadata": {
  "kernelspec": {
   "display_name": "Python 3",
   "language": "python",
   "name": "python3"
  },
  "language_info": {
   "codemirror_mode": {
    "name": "ipython",
    "version": 3
   },
   "file_extension": ".py",
   "mimetype": "text/x-python",
   "name": "python",
   "nbconvert_exporter": "python",
   "pygments_lexer": "ipython3",
   "version": "3.8.3"
  }
 },
 "nbformat": 4,
 "nbformat_minor": 4
}
