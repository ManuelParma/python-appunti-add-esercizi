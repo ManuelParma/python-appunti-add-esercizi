{
  "nbformat": 4,
  "nbformat_minor": 0,
  "metadata": {
    "kernelspec": {
      "display_name": "Python 3",
      "language": "python",
      "name": "python3"
    },
    "language_info": {
      "codemirror_mode": {
        "name": "ipython",
        "version": 3
      },
      "file_extension": ".py",
      "mimetype": "text/x-python",
      "name": "python",
      "nbconvert_exporter": "python",
      "pygments_lexer": "ipython3",
      "version": "3.8.3"
    },
    "colab": {
      "name": "Copia di esercizio1.ipynb",
      "provenance": [],
      "collapsed_sections": []
    }
  },
  "cells": [
    {
      "cell_type": "markdown",
      "metadata": {
        "id": "ykWnqS-COeg7"
      },
      "source": [
        "a. far inserire all'utente 2 valori interi"
      ]
    },
    {
      "cell_type": "code",
      "metadata": {
        "id": "uaz7RpX7Oeg8",
        "colab": {
          "base_uri": "https://localhost:8080/"
        },
        "outputId": "336fa8ea-f0c3-40ef-ad11-b967719f8f96"
      },
      "source": [
        "f_num = input('Insert the first number:\\n')\n",
        "s_num = input('Insert the second number:\\n')"
      ],
      "execution_count": 7,
      "outputs": [
        {
          "name": "stdout",
          "output_type": "stream",
          "text": [
            "Insert the first number:\n",
            "10\n",
            "Insert the second number:\n",
            "5\n"
          ]
        }
      ]
    },
    {
      "cell_type": "markdown",
      "metadata": {
        "id": "ZcPoBnw0Oeg8"
      },
      "source": [
        "b. effettuare le 4 operazione aritmetiche tra i due numeri"
      ]
    },
    {
      "cell_type": "code",
      "metadata": {
        "id": "XlKyXEjrOeg9",
        "colab": {
          "base_uri": "https://localhost:8080/"
        },
        "outputId": "2c9fef72-cd8f-4e9f-a671-47b9d95ebe0a"
      },
      "source": [
        "f_num = int(f_num)\n",
        "s_num = int(s_num)\n",
        "print('Sum: {}\\nSubtraction: {}\\nMultiplication: {}\\nDivision: {}'.format(f_num + s_num, f_num - s_num, f_num * s_num, f_num / s_num))"
      ],
      "execution_count": 8,
      "outputs": [
        {
          "output_type": "stream",
          "name": "stdout",
          "text": [
            "Sum: 15\n",
            "Subtraction: 5\n",
            "Multiplication: 50\n",
            "Division: 2.0\n"
          ]
        }
      ]
    },
    {
      "cell_type": "markdown",
      "metadata": {
        "id": "4WeyJ-mXOeg9"
      },
      "source": [
        "c. effettuare l'elevamento a potenza del primo numero per il secondo"
      ]
    },
    {
      "cell_type": "code",
      "metadata": {
        "id": "OANzFSesOeg9",
        "colab": {
          "base_uri": "https://localhost:8080/"
        },
        "outputId": "4b27f4b5-b2b1-41c3-8d9a-be5b3176c623"
      },
      "source": [
        "print('Power:', str(f_num**s_num))"
      ],
      "execution_count": 9,
      "outputs": [
        {
          "output_type": "stream",
          "name": "stdout",
          "text": [
            "Power: 100000\n"
          ]
        }
      ]
    },
    {
      "cell_type": "markdown",
      "metadata": {
        "id": "RQdxP7XuOeg-"
      },
      "source": [
        "d. effettuare il calcolo del resto della divisione tra il primo ed il secondo numero"
      ]
    },
    {
      "cell_type": "code",
      "metadata": {
        "id": "0ydNseoxOeg-",
        "colab": {
          "base_uri": "https://localhost:8080/"
        },
        "outputId": "6e5dc68e-5397-44ef-c6d7-a73bf545339e"
      },
      "source": [
        "print('Resto:', str(f_num%s_num))"
      ],
      "execution_count": 10,
      "outputs": [
        {
          "output_type": "stream",
          "name": "stdout",
          "text": [
            "Resto: 0\n"
          ]
        }
      ]
    },
    {
      "cell_type": "markdown",
      "metadata": {
        "id": "Ut0Ag_1rOeg-"
      },
      "source": [
        "f. effettuare la divisione intera tra il primo e il secondo numero"
      ]
    },
    {
      "cell_type": "code",
      "metadata": {
        "id": "OiFr4HirOeg-",
        "colab": {
          "base_uri": "https://localhost:8080/"
        },
        "outputId": "05ee0115-ada1-4308-d28d-46987d6b329e"
      },
      "source": [
        "print('Divisione intera:', str(f_num//s_num))"
      ],
      "execution_count": 11,
      "outputs": [
        {
          "output_type": "stream",
          "name": "stdout",
          "text": [
            "Divisione intera: 2\n"
          ]
        }
      ]
    },
    {
      "cell_type": "markdown",
      "metadata": {
        "id": "kvP8wSg4Oeg_"
      },
      "source": [
        "g. incrementare di un unità entrambi i numeri"
      ]
    },
    {
      "cell_type": "code",
      "metadata": {
        "id": "COTrGdJ9Oeg_",
        "colab": {
          "base_uri": "https://localhost:8080/"
        },
        "outputId": "d74a4325-7f59-4d71-95e1-24749930081a"
      },
      "source": [
        "f_num += 1\n",
        "s_num += 1\n",
        "print('f_num incremented by 1:', str(f_num))\n",
        "print('s_num incremented by 1:', str(s_num))"
      ],
      "execution_count": 12,
      "outputs": [
        {
          "output_type": "stream",
          "name": "stdout",
          "text": [
            "f_num incremented by 1: 11\n",
            "s_num incremented by 1: 6\n"
          ]
        }
      ]
    },
    {
      "cell_type": "markdown",
      "metadata": {
        "id": "_Z3pOYgDOeg_"
      },
      "source": [
        "h. far inserire all'utente due valori: il primo rappresenta la sua altezza (in metri)\n",
        "e il secondo rappresenta il suo peso (in kg). Visualizzare poi l'IMC (google it...) \n",
        "i. arrotondare l'IMC precedente"
      ]
    },
    {
      "cell_type": "code",
      "metadata": {
        "scrolled": true,
        "id": "BcAwhPbXOeg_",
        "colab": {
          "base_uri": "https://localhost:8080/"
        },
        "outputId": "4474a2b7-a888-470a-fdb2-d5ef4d836918"
      },
      "source": [
        "height = float(input('Insert your height:\\n'))\n",
        "weight = float(input('Insert your weight:\\n'))\n",
        "imc = weight / height**2\n",
        "print('\\nIMC:', imc)"
      ],
      "execution_count": 13,
      "outputs": [
        {
          "output_type": "stream",
          "name": "stdout",
          "text": [
            "Insert your height:\n",
            "1.65\n",
            "Insert your weight:\n",
            "65\n",
            "\n",
            "IMC: 23.875114784205696\n"
          ]
        }
      ]
    },
    {
      "cell_type": "markdown",
      "metadata": {
        "id": "_tC5zT2pOehA"
      },
      "source": [
        "i. arrotondare l'IMC precedente"
      ]
    },
    {
      "cell_type": "code",
      "metadata": {
        "id": "ZY8fhb1FOehA",
        "colab": {
          "base_uri": "https://localhost:8080/"
        },
        "outputId": "12d15dc2-c8d6-46f8-e4c8-d14ce0920d23"
      },
      "source": [
        "print('Rounded IMC:\\n', round(imc))"
      ],
      "execution_count": 14,
      "outputs": [
        {
          "output_type": "stream",
          "name": "stdout",
          "text": [
            "Rounded IMC:\n",
            " 24\n"
          ]
        }
      ]
    },
    {
      "cell_type": "markdown",
      "metadata": {
        "id": "iLWdxT8xOehA"
      },
      "source": [
        "j. visualizzare il proprio nome, cognome, data di nascita e città di nascita separando le informazioni con un trattino"
      ]
    },
    {
      "cell_type": "code",
      "metadata": {
        "id": "lCKDnXw2OehA",
        "colab": {
          "base_uri": "https://localhost:8080/"
        },
        "outputId": "c3eba6a4-0f31-4101-ae2a-4d5956e55f25"
      },
      "source": [
        "data = ['Manuel', 'Parma', '20/20/05', 'Bollate']\n",
        "s_data = ' - '.join(data)\n",
        "print(s_data)"
      ],
      "execution_count": 15,
      "outputs": [
        {
          "output_type": "stream",
          "name": "stdout",
          "text": [
            "Manuel - Parma - 20/20/05 - Bollate\n"
          ]
        }
      ]
    },
    {
      "cell_type": "markdown",
      "metadata": {
        "id": "3uNSgWH4OehB"
      },
      "source": [
        "k. visualizzare le stesse informazioni per 10 volte"
      ]
    },
    {
      "cell_type": "code",
      "metadata": {
        "id": "7mq_m-VgOehB",
        "colab": {
          "base_uri": "https://localhost:8080/"
        },
        "outputId": "df414294-0188-43c9-e0f4-277e6156baeb"
      },
      "source": [
        "print((s_data + '\\n')*10)"
      ],
      "execution_count": 16,
      "outputs": [
        {
          "output_type": "stream",
          "name": "stdout",
          "text": [
            "Manuel - Parma - 20/20/05 - Bollate\n",
            "Manuel - Parma - 20/20/05 - Bollate\n",
            "Manuel - Parma - 20/20/05 - Bollate\n",
            "Manuel - Parma - 20/20/05 - Bollate\n",
            "Manuel - Parma - 20/20/05 - Bollate\n",
            "Manuel - Parma - 20/20/05 - Bollate\n",
            "Manuel - Parma - 20/20/05 - Bollate\n",
            "Manuel - Parma - 20/20/05 - Bollate\n",
            "Manuel - Parma - 20/20/05 - Bollate\n",
            "Manuel - Parma - 20/20/05 - Bollate\n",
            "\n"
          ]
        }
      ]
    },
    {
      "cell_type": "markdown",
      "metadata": {
        "id": "vtI-5OC2OehB"
      },
      "source": [
        "l. assegnare il proprio nome e cognome ad una stringa"
      ]
    },
    {
      "cell_type": "code",
      "metadata": {
        "id": "iVD9OejlOehB",
        "colab": {
          "base_uri": "https://localhost:8080/"
        },
        "outputId": "fb5be05c-1f3b-464d-f132-bf901a072685"
      },
      "source": [
        "full_name = '{} {}'.format(data[0], data[1])\n",
        "print('Name and surname:', full_name.upper())"
      ],
      "execution_count": 17,
      "outputs": [
        {
          "output_type": "stream",
          "name": "stdout",
          "text": [
            "Name and surname: MANUEL PARMA\n"
          ]
        }
      ]
    },
    {
      "cell_type": "markdown",
      "metadata": {
        "id": "pdRBkSCnOehB"
      },
      "source": [
        "m. assegnare il proprio nome e cognome ad una stringa e visualizzarla con le prime lettere maiuscole"
      ]
    },
    {
      "cell_type": "code",
      "metadata": {
        "id": "we75d1W9OehB",
        "colab": {
          "base_uri": "https://localhost:8080/"
        },
        "outputId": "439f6fea-3fa1-43a6-ee4b-ac57f76aa532"
      },
      "source": [
        "print(full_name.title())"
      ],
      "execution_count": 18,
      "outputs": [
        {
          "output_type": "stream",
          "name": "stdout",
          "text": [
            "Manuel Parma\n"
          ]
        }
      ]
    },
    {
      "cell_type": "markdown",
      "metadata": {
        "id": "Dme_UkOiOehC"
      },
      "source": [
        "n. assegnare il proprio nome e cognome ad una stringa e visualizzarne la lunghezza"
      ]
    },
    {
      "cell_type": "code",
      "metadata": {
        "id": "QicZZmYZOehC",
        "colab": {
          "base_uri": "https://localhost:8080/"
        },
        "outputId": "e0dcb59e-61aa-4e53-9513-3b7e78b239fc"
      },
      "source": [
        "print('Length with space {}, length without space {}'.format(len(full_name), len(full_name) -1))"
      ],
      "execution_count": 19,
      "outputs": [
        {
          "output_type": "stream",
          "name": "stdout",
          "text": [
            "Length with space 12, length without space 11\n"
          ]
        }
      ]
    },
    {
      "cell_type": "markdown",
      "metadata": {
        "id": "5ucTQanFOehC"
      },
      "source": [
        "o. assegnare il proprio nome e cognome ad una stringa e contate quante vocali contiene"
      ]
    },
    {
      "cell_type": "code",
      "metadata": {
        "id": "IrGxgoBDOehC",
        "colab": {
          "base_uri": "https://localhost:8080/"
        },
        "outputId": "82696d89-0dd9-489e-8f16-a0e40a6f5d7d"
      },
      "source": [
        "vowels = ['a', 'e', 'i', 'o', 'u']\n",
        "v_count = 0\n",
        "for v in vowels:\n",
        "    v_count += full_name.count(v)\n",
        "print('Count of vowels in full_name:', v_count)"
      ],
      "execution_count": 20,
      "outputs": [
        {
          "output_type": "stream",
          "name": "stdout",
          "text": [
            "Count of vowels in full_name:  5\n"
          ]
        }
      ]
    },
    {
      "cell_type": "markdown",
      "metadata": {
        "id": "6D6VoIwkOehC"
      },
      "source": [
        "p. assegnare il proprio nome e cognome ad una stringa e visualizzare i primi 5 caratteri"
      ]
    },
    {
      "cell_type": "code",
      "metadata": {
        "id": "gbS87oz3OehC",
        "colab": {
          "base_uri": "https://localhost:8080/"
        },
        "outputId": "79450525-c828-4b92-fc21-54d070a9d5b2"
      },
      "source": [
        "print('First 5 characters of full_name:', full_name[0:5])"
      ],
      "execution_count": 21,
      "outputs": [
        {
          "output_type": "stream",
          "name": "stdout",
          "text": [
            "First 5 characters of full_name: Manue\n"
          ]
        }
      ]
    },
    {
      "cell_type": "markdown",
      "metadata": {
        "id": "MuhHNI5oOehD"
      },
      "source": [
        "q. assegnare il proprio nome e cognome ad una stringa e visualizzare gli ultimi 5 caratteri"
      ]
    },
    {
      "cell_type": "code",
      "metadata": {
        "id": "e_hsnBYlOehD",
        "colab": {
          "base_uri": "https://localhost:8080/"
        },
        "outputId": "49e930fa-038f-4a6b-effc-f10e20b97364"
      },
      "source": [
        "print('Last 5 characters of full_name:', full_name[-5:])"
      ],
      "execution_count": 22,
      "outputs": [
        {
          "output_type": "stream",
          "name": "stdout",
          "text": [
            "Last 5 characters of full_name: Parma\n"
          ]
        }
      ]
    },
    {
      "cell_type": "markdown",
      "metadata": {
        "id": "p-pzKIA3OehD"
      },
      "source": [
        "r. assegnare il proprio nome e cognome ad una stringa e visualizzare i 5 caratteri centrali"
      ]
    },
    {
      "cell_type": "code",
      "metadata": {
        "id": "y8SDGg1iOehD",
        "colab": {
          "base_uri": "https://localhost:8080/"
        },
        "outputId": "d247f7f1-e972-4ef9-971b-1931750b0fab"
      },
      "source": [
        "if len(full_name) % 2 == 0:\n",
        "  chars = full_name[(len(full_name) - 5)//2:(len(full_name) - 5)//2 + 5]\n",
        "else:\n",
        "  chars = full_name[(len(full_name) - 5)/2: (len(full_name) - 5)/2 + 5]\n",
        "\n",
        "print('Middle characters of full_name:', chars)"
      ],
      "execution_count": 23,
      "outputs": [
        {
          "output_type": "stream",
          "name": "stdout",
          "text": [
            "Middle characters of full_name: uel P\n"
          ]
        }
      ]
    },
    {
      "cell_type": "markdown",
      "metadata": {
        "id": "S2NBd08ZTVIj"
      },
      "source": [
        "s. assegnare il proprio nome e cognome ad una stringa e sostituire le vocali con una X"
      ]
    },
    {
      "cell_type": "code",
      "metadata": {
        "id": "wWBVfP9ATe9Q",
        "colab": {
          "base_uri": "https://localhost:8080/"
        },
        "outputId": "2b33758f-20a3-4723-e95b-b389b6cec621"
      },
      "source": [
        "x_name = full_name\n",
        "for v in vowels:\n",
        "  x_name = x_name.replace(v, 'X')\n",
        "\n",
        "print(x_name)"
      ],
      "execution_count": 24,
      "outputs": [
        {
          "output_type": "stream",
          "name": "stdout",
          "text": [
            "MXnXXl PXrmX\n"
          ]
        }
      ]
    }
  ]
}